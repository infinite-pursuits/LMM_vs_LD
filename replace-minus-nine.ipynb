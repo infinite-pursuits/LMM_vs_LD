{
 "cells": [
  {
   "cell_type": "code",
   "execution_count": 2,
   "id": "d4d6d1ad",
   "metadata": {},
   "outputs": [],
   "source": [
    "import random\n",
    "input_file_path = 'traits_h=.5_betamult=1_cc.phen'\n",
    "output_file_path = 'traits_h=.5_betamult=1_cc_nominusnine.phen'\n",
    "# Open the input and output files\n",
    "with open(input_file_path, 'r') as f_in, open(output_file_path, 'w') as f_out:\n",
    "    # Process each line in the input file\n",
    "    for line in f_in:\n",
    "        # Split the line into its components\n",
    "        parts = line.strip().split()\n",
    "        # Check if the third element is '-9' and randomly replace it with '1' or '2'\n",
    "        if parts[2] == '-9':\n",
    "            parts[2] = random.choice(['1', '2'])\n",
    "        # Write the modified line to the output file\n",
    "        f_out.write(' '.join(parts) + '\\n')"
   ]
  },
  {
   "cell_type": "code",
   "execution_count": null,
   "id": "f5c7094e",
   "metadata": {},
   "outputs": [],
   "source": []
  }
 ],
 "metadata": {
  "kernelspec": {
   "display_name": "Python 3 (clean)",
   "language": "python",
   "name": "python3_clean"
  },
  "language_info": {
   "codemirror_mode": {
    "name": "ipython",
    "version": 3
   },
   "file_extension": ".py",
   "mimetype": "text/x-python",
   "name": "python",
   "nbconvert_exporter": "python",
   "pygments_lexer": "ipython3",
   "version": "3.9.5"
  }
 },
 "nbformat": 4,
 "nbformat_minor": 5
}
