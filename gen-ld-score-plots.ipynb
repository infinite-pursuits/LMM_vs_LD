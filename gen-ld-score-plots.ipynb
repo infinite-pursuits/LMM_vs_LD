{
 "cells": [
  {
   "cell_type": "code",
   "execution_count": null,
   "id": "07dd126b",
   "metadata": {},
   "outputs": [],
   "source": [
    "import matplotlib.pyplot as plt\n",
    "import numpy as np\n",
    "import math\n",
    "import os"
   ]
  },
  {
   "cell_type": "code",
   "execution_count": null,
   "id": "37a3acb3",
   "metadata": {},
   "outputs": [],
   "source": [
    "betamults=['.01' ,'1', '2', '5' ,'10']\n",
    "herits=['.01' ,'.1', '.2' ,'.5', '.9']\n",
    "gt = []\n",
    "calht = []\n",
    "calinterpect = []\n",
    "results = {}"
   ]
  },
  {
   "cell_type": "code",
   "execution_count": null,
   "id": "df80b38a",
   "metadata": {},
   "outputs": [],
   "source": [
    "for herit in herits:\n",
    "    for betamult in betamults:\n",
    "    \n",
    "        # Specify the path to your .hsq file\n",
    "        file_path = f'/home/cyadav/teams/heritability-project/gcta64/ld_keep_allele_conjecture_large/munge_stats_test_herit{herit}_beta{betamult}_scz_h2.log'\n",
    "        \n",
    "        \n",
    "        if os.path.exists(file_path):\n",
    "            # Initialize variables to store the values\n",
    "            total_h2 = None\n",
    "            intercept = None\n",
    "            \n",
    "            print('#####')\n",
    "            print(betamult, herit)\n",
    "            print('#####')\n",
    "\n",
    "            with open(file_path, 'r') as file:\n",
    "                # Iterate through each line in the file\n",
    "                for line in file:\n",
    "                    # Check if the line contains the Total Observed scale h2 value\n",
    "                    if \"Total Observed scale h2:\" in line:\n",
    "                        # Extract the Total Observed scale h2 value\n",
    "                        print(line)\n",
    "                        print(line.split(\":\")[1].split()[0])\n",
    "                        total_h2 = abs(float(line.split(\":\")[1].split()[0]))\n",
    "                    # Check if the line contains the Intercept value\n",
    "                    elif \"Intercept:\" in line:\n",
    "                        # Extract the Intercept value\n",
    "                        print(line)\n",
    "                        print(line.split(\":\")[1].split()[0])\n",
    "                        intercept = abs(float(line.split(\":\")[1].split()[0]))\n",
    "\n",
    "            gt.append(herit)\n",
    "            calht.append(total_h2)\n",
    "            calinterpect.append(intercept)"
   ]
  },
  {
   "cell_type": "code",
   "execution_count": null,
   "id": "14894557",
   "metadata": {},
   "outputs": [],
   "source": [
    "savepath ='ld_score_scatter_plot.pdf' #CHANGE THE LOCATION\n",
    "\n",
    "x_values = gt\n",
    "y_values = calht\n",
    "\n",
    "# Create scatter plot\n",
    "plt.scatter(x_values, y_values)\n",
    "\n",
    "# Plot y=x line\n",
    "plt.plot([min(x_values), max(x_values)], [min(x_values), max(x_values)], color='red', linestyle='--', label='y=x')\n",
    "\n",
    "# Set labels and title\n",
    "plt.xlabel('Ground Truth Heritability')\n",
    "plt.ylabel('Calculated Heritability')\n",
    "#plt.title('Scatter Plot of the heritabilities')\n",
    "\n",
    "# Add legend\n",
    "plt.legend()\n",
    "\n",
    "# Save the plot as a PDF\n",
    "plt.savefig(savepath)\n",
    "\n",
    "# Show the plot\n",
    "plt.show()\n",
    "plt.clf()"
   ]
  },
  {
   "cell_type": "code",
   "execution_count": null,
   "id": "6c795868",
   "metadata": {},
   "outputs": [],
   "source": []
  }
 ],
 "metadata": {
  "kernelspec": {
   "display_name": "Python 3 (ipykernel)",
   "language": "python",
   "name": "python3"
  },
  "language_info": {
   "codemirror_mode": {
    "name": "ipython",
    "version": 3
   },
   "file_extension": ".py",
   "mimetype": "text/x-python",
   "name": "python",
   "nbconvert_exporter": "python",
   "pygments_lexer": "ipython3",
   "version": "3.9.5"
  }
 },
 "nbformat": 4,
 "nbformat_minor": 5
}
