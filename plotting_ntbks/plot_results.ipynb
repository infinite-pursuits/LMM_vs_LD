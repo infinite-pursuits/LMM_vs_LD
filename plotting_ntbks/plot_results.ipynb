{
 "cells": [
  {
   "cell_type": "code",
   "execution_count": 1,
   "id": "0eca6b2e",
   "metadata": {},
   "outputs": [],
   "source": [
    "import matplotlib.pyplot as plt\n",
    "import numpy as np"
   ]
  },
  {
   "cell_type": "code",
   "execution_count": 2,
   "id": "f7284d65",
   "metadata": {},
   "outputs": [],
   "source": [
    "betamults=['.01' ,'1', '2', '5' ,'10']\n",
    "herits=['.01' ,'.1', '.2' ,'.5', '.9']\n",
    "gt = []\n",
    "calht = []\n",
    "results = {}"
   ]
  },
  {
   "cell_type": "code",
   "execution_count": 3,
   "id": "bf621f2f",
   "metadata": {},
   "outputs": [
    {
     "name": "stdout",
     "output_type": "stream",
     "text": [
      "['.01', '.1', '.2', '.5', '.9', '.01', '.1', '.2', '.5', '.9', '.01', '.1', '.2', '.5', '.9', '.01', '.1', '.2', '.5', '.9', '.01', '.1', '.2', '.5', '.9']\n",
      "[0.0919677805454016, 0.02912621359223301, 0.07142857142857142, 0.13172541743970317, 0.25391849529780564, 0.06937677529823254, 0.10962037355793837, 0.14521196759640448, 0.13945522526419873, 0.19084156365281632, 1.0193692122081592e-06, 0.02596832201796917, 0.06922645540838651, 0.14697145807256157, 0.21580682848847688, 0.03633704540917373, 0.1666314657615524, 0.03045039314474818, 0.1597479296802583, 0.25079464263343754, 1.0069548614850694e-06, 0.03880281888005368, 0.032420617818041356, 0.07939978296587925, 0.17693682564805088]\n"
     ]
    }
   ],
   "source": [
    "for betamult in betamults:\n",
    "    for herit in herits:\n",
    "        # Specify the path to your .hsq file\n",
    "        #file_path = f'/home/cyadav/teams/heritability-project/gcta64/GCTAherit_herit{herit}_beta{betamult}.hsq'\n",
    "        #file_path = f'/home/nrittler/teams/heritability-project/gcta64/Conjecture/herit{herit}_beta{betamult}.hsq'\n",
    "        file_path = f'/home/nrittler/teams/heritability-project/gcta64/Exp_Large/herit{herit}_beta{betamult}.hsq'\n",
    "        \n",
    "        # Initialize variables to store the values\n",
    "        vg_value = None\n",
    "        ve_value = None\n",
    "\n",
    "        # Read the .hsq file\n",
    "        with open(file_path, 'r') as file:\n",
    "            for line in file:\n",
    "                # Split each line into fields\n",
    "                fields = line.strip().split()\n",
    "\n",
    "                # Check if the line contains \"V(G)\" or \"V(e)\"\n",
    "                if fields and fields[0] == 'V(G)':\n",
    "                    vg_value = float(fields[1])\n",
    "                elif fields and fields[0] == 'V(e)':\n",
    "                    ve_value = float(fields[1])\n",
    "        gt.append(herit)\n",
    "        #results[(betamult, herit)] = \n",
    "        # Print the extracted values\n",
    "        #print(f'betamult {betamult}', f'herit {herit}')\n",
    "        #print(f'Value next to V(G): {vg_value}',f'Value next to V(e): {ve_value}')\n",
    "        vg = float(vg_value)\n",
    "        ve = float(ve_value)\n",
    "        calht.append(vg/(vg+ve))\n",
    "print(gt)\n",
    "print(calht)"
   ]
  },
  {
   "cell_type": "code",
   "execution_count": 4,
   "id": "41b2bd58",
   "metadata": {},
   "outputs": [
    {
     "data": {
      "image/png": "[encoded data removed]",
      "text/plain": [
       "<Figure size 432x288 with 1 Axes>"
      ]
     },
     "metadata": {
      "needs_background": "light"
     },
     "output_type": "display_data"
    },
    {
     "data": {
      "text/plain": [
       "<Figure size 432x288 with 0 Axes>"
      ]
     },
     "metadata": {},
     "output_type": "display_data"
    }
   ],
   "source": [
    "x_values = gt\n",
    "y_values = calht\n",
    "\n",
    "# Create scatter plot\n",
    "plt.scatter(x_values, y_values)\n",
    "\n",
    "# Plot y=x line\n",
    "plt.plot([min(x_values), max(x_values)], [min(x_values), max(x_values)], color='red', linestyle='--', label='y=x')\n",
    "\n",
    "# Set labels and title\n",
    "plt.xlabel('Ground Truth Heritability')\n",
    "plt.ylabel('Heritability returned by LMM GCTA')\n",
    "#plt.title('Scatter Plot of the heritabilities')\n",
    "\n",
    "# Add legend\n",
    "plt.legend()\n",
    "\n",
    "# Save the plot as a PDF\n",
    "# plt.title('Heritability Estimates, Original Simulations')\n",
    "# plt.savefig('Exp_Large/scatter_plot_pca3_alt_title.pdf')\n",
    "\n",
    "plt.show()\n",
    "plt.clf()"
   ]
  },
  {
   "cell_type": "code",
   "execution_count": 5,
   "id": "bdefc48b",
   "metadata": {},
   "outputs": [
    {
     "data": {
      "text/plain": [
       "25"
      ]
     },
     "execution_count": 5,
     "metadata": {},
     "output_type": "execute_result"
    }
   ],
   "source": [
    "len(x_values)"
   ]
  },
  {
   "cell_type": "code",
   "execution_count": null,
   "id": "71661ee9",
   "metadata": {},
   "outputs": [],
   "source": []
  }
 ],
 "metadata": {
  "kernelspec": {
   "display_name": "Python 3 (clean)",
   "language": "python",
   "name": "python3_clean"
  },
  "language_info": {
   "codemirror_mode": {
    "name": "ipython",
    "version": 3
   },
   "file_extension": ".py",
   "mimetype": "text/x-python",
   "name": "python",
   "nbconvert_exporter": "python",
   "pygments_lexer": "ipython3",
   "version": "3.9.5"
  }
 },
 "nbformat": 4,
 "nbformat_minor": 5
}
